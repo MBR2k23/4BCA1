{
  "nbformat": 4,
  "nbformat_minor": 0,
  "metadata": {
    "colab": {
      "private_outputs": true,
      "provenance": [],
      "authorship_tag": "ABX9TyOWSTF9jw2YaGgVJ2hnGiis",
      "include_colab_link": true
    },
    "kernelspec": {
      "name": "python3",
      "display_name": "Python 3"
    },
    "language_info": {
      "name": "python"
    }
  },
  "cells": [
    {
      "cell_type": "markdown",
      "metadata": {
        "id": "view-in-github",
        "colab_type": "text"
      },
      "source": [
        "<a href=\"https://colab.research.google.com/github/MBR2k23/4BCA1/blob/main/Earthquake_prediction.ipynb\" target=\"_parent\"><img src=\"https://colab.research.google.com/assets/colab-badge.svg\" alt=\"Open In Colab\"/></a>"
      ]
    },
    {
      "cell_type": "code",
      "source": [
        "import numpy as np#importing the numpy module\n",
        "import pandas as pd#importing the pandas module\n",
        "from sklearn.model_selection import train_test_split#importing the train test split module\n",
        "import pickle #import pickle\n",
        "from sklearn import metrics #import metrics\n",
        "from sklearn.ensemble import RandomForestClassifier\n",
        "from sklearn.ensemble import GradientBoostingClassifier\n",
        "from sklearn.svm import SVC"
      ],
      "metadata": {
        "id": "bL_02lx1hYc1"
      },
      "execution_count": null,
      "outputs": []
    },
    {
      "cell_type": "code",
      "source": [
        "data = pd.read_csv('/content/erth.csv')\n",
        "data.info()"
      ],
      "metadata": {
        "id": "-2oG8mxPXDQA"
      },
      "execution_count": null,
      "outputs": []
    },
    {
      "cell_type": "code",
      "source": [
        "dataframe= pd.read_csv(\"/content/erth.csv\")#here we are reading the dataset\n",
        "\n",
        "dataframe= np.array(dataframe)#converting the dataset into an numpy array\n",
        "print(dataframe)#printing the dataframe"
      ],
      "metadata": {
        "id": "ARQDRWBx96-9"
      },
      "execution_count": null,
      "outputs": []
    },
    {
      "cell_type": "code",
      "source": [
        "x_set = dataframe[:, 0:-1]#getting the x dataset\n",
        "y_set = dataframe[:, -1]#getting the y dataset\n",
        "\n",
        "y_set = y_set.astype('int')#converting the y_set into int\n",
        "x_set = x_set.astype('int')#converting the x_set into int\n",
        "\n",
        "x_train, x_test, y_train, y_test = train_test_split(x_set, y_set, test_size=0.2, random_state=0)"
      ],
      "metadata": {
        "id": "pZNgKtpP97Cy"
      },
      "execution_count": null,
      "outputs": []
    },
    {
      "cell_type": "code",
      "source": [
        "Random_forest_classifier = RandomForestClassifier()#creating the model\n",
        "\n",
        "Random_forest_classifier.fit(x_train, y_train)#fitting the model with training dataset\n",
        "y_pred = Random_forest_classifier.predict(x_test)#predicting the result using test set\n",
        "\n",
        "print(metrics.accuracy_score(y_test, y_pred))#printing the accuracy score"
      ],
      "metadata": {
        "id": "A8zd2c3p-Eyb"
      },
      "execution_count": null,
      "outputs": []
    },
    {
      "cell_type": "code",
      "source": [
        "#importing the descision tree classifier from the sklearn tree\n",
        "tree = GradientBoostingClassifier() #making an instance the descision tree with maxdepth = 3 as passing the input\n",
        "clf = tree.fit(x_train,y_train) #here we are passing our training and the testing data to the tree and fitting it\n",
        "y_pred = clf.predict(x_test) #predicting the value by passing the x_test datset to the tree\n",
        "metrics.accuracy_score(y_pred,y_test)# here we are printing the accuracy score of the prediction and the testing data"
      ],
      "metadata": {
        "id": "FCorq1JaF_b5"
      },
      "execution_count": null,
      "outputs": []
    },
    {
      "cell_type": "code",
      "source": [
        "#importing the descision tree classifier from the sklearn tree\n",
        "tree = SVC(gamma='auto') #making an instance the support vector tree\n",
        "clf = tree.fit(x_train,y_train) #here we are passing our training and the testing data to the tree and fitting it\n",
        "\n",
        "y_pred = clf.predict(x_test) #predicting the value by passing the x_test datset to the tree\n",
        "metrics.accuracy_score(y_pred,y_test)# here we are printing the accuracy score of the prediction and the testing data"
      ],
      "metadata": {
        "id": "3bL4E9eeWPBJ"
      },
      "execution_count": null,
      "outputs": []
    }
  ]
}